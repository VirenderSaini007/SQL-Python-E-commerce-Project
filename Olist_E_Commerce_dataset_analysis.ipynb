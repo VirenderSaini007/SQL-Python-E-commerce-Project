{
 "cells": [
  {
   "cell_type": "markdown",
   "id": "b68b30f9",
   "metadata": {},
   "source": [
    "### Importing liberaries"
   ]
  },
  {
   "cell_type": "code",
   "execution_count": 1,
   "id": "92d85ff0",
   "metadata": {},
   "outputs": [],
   "source": [
    "import pandas as pd\n",
    "import matplotlib.pyplot as plt\n",
    "import seaborn as sns\n",
    "import mysql.connector"
   ]
  },
  {
   "cell_type": "code",
   "execution_count": 2,
   "id": "2505ca05",
   "metadata": {},
   "outputs": [],
   "source": [
    "conn=mysql.connector.connect(host=\"localhost\", user=\"root\", passwd=\"905005\", database=\"Olst_E_Commerce\")\n",
    "cursor=conn.cursor()"
   ]
  },
  {
   "cell_type": "code",
   "execution_count": 3,
   "id": "fd4e368b",
   "metadata": {},
   "outputs": [
    {
     "name": "stdout",
     "output_type": "stream",
     "text": [
      "Tables in the database:\n",
      "category_name_translation\n",
      "customers\n",
      "geolocation\n",
      "order_items\n",
      "order_reviews\n",
      "orders\n",
      "payments\n",
      "products\n",
      "sellers\n"
     ]
    }
   ],
   "source": [
    "query = \"\"\"SHOW TABLES\"\"\"\n",
    "cursor.execute(query)\n",
    "result = cursor.fetchall()\n",
    "\n",
    "# Print the list of tables\n",
    "print(\"Tables in the database:\")\n",
    "for table in result:\n",
    "    print(table[0]) "
   ]
  },
  {
   "cell_type": "code",
   "execution_count": 4,
   "id": "c516e3c3",
   "metadata": {},
   "outputs": [
    {
     "name": "stdout",
     "output_type": "stream",
     "text": [
      "product_id\n",
      "product_category_name\n",
      "product_weight_g\n",
      "product_length_cm\n",
      "product_height_cm\n",
      "product_width_cm\n"
     ]
    }
   ],
   "source": [
    "# Columns in product table.\n",
    "cursor.execute(\"describe products\")\n",
    "result= cursor.fetchall()\n",
    "for i in result:\n",
    "    print(i[0])"
   ]
  },
  {
   "cell_type": "markdown",
   "id": "a6e49897",
   "metadata": {},
   "source": [
    "## Customer Count by State"
   ]
  },
  {
   "cell_type": "code",
   "execution_count": 5,
   "id": "91a1a246",
   "metadata": {},
   "outputs": [
    {
     "data": {
      "text/html": [
       "<div>\n",
       "<style scoped>\n",
       "    .dataframe tbody tr th:only-of-type {\n",
       "        vertical-align: middle;\n",
       "    }\n",
       "\n",
       "    .dataframe tbody tr th {\n",
       "        vertical-align: top;\n",
       "    }\n",
       "\n",
       "    .dataframe thead th {\n",
       "        text-align: right;\n",
       "    }\n",
       "</style>\n",
       "<table border=\"1\" class=\"dataframe\">\n",
       "  <thead>\n",
       "    <tr style=\"text-align: right;\">\n",
       "      <th></th>\n",
       "      <th>State</th>\n",
       "      <th>No_of_customers</th>\n",
       "    </tr>\n",
       "  </thead>\n",
       "  <tbody>\n",
       "    <tr>\n",
       "      <th>0</th>\n",
       "      <td>SP</td>\n",
       "      <td>41746</td>\n",
       "    </tr>\n",
       "    <tr>\n",
       "      <th>1</th>\n",
       "      <td>RJ</td>\n",
       "      <td>12852</td>\n",
       "    </tr>\n",
       "    <tr>\n",
       "      <th>2</th>\n",
       "      <td>MG</td>\n",
       "      <td>11635</td>\n",
       "    </tr>\n",
       "    <tr>\n",
       "      <th>3</th>\n",
       "      <td>RS</td>\n",
       "      <td>5466</td>\n",
       "    </tr>\n",
       "    <tr>\n",
       "      <th>4</th>\n",
       "      <td>PR</td>\n",
       "      <td>5045</td>\n",
       "    </tr>\n",
       "  </tbody>\n",
       "</table>\n",
       "</div>"
      ],
      "text/plain": [
       "  State  No_of_customers\n",
       "0    SP            41746\n",
       "1    RJ            12852\n",
       "2    MG            11635\n",
       "3    RS             5466\n",
       "4    PR             5045"
      ]
     },
     "execution_count": 5,
     "metadata": {},
     "output_type": "execute_result"
    }
   ],
   "source": [
    "query=\"\"\"select customer_state, count(*) as no_of_customers from customers group by customer_state\n",
    "order by no_of_customers desc\"\"\"\n",
    "cursor.execute(query)\n",
    "result=cursor.fetchall()\n",
    "df=pd.DataFrame(result, columns=[\"State\",\"No_of_customers\"])\n",
    "df.head()\n"
   ]
  },
  {
   "cell_type": "code",
   "execution_count": 6,
   "id": "a4a840d0",
   "metadata": {},
   "outputs": [
    {
     "data": {
      "image/png": "[encoded data removed]",
      "text/plain": [
       "<Figure size 936x288 with 1 Axes>"
      ]
     },
     "metadata": {
      "needs_background": "light"
     },
     "output_type": "display_data"
    }
   ],
   "source": [
    "fig=plt.figure(figsize=(13,4))\n",
    "sns.barplot(x=\"State\",y=\"No_of_customers\", data=df)\n",
    "plt.title(\"Count of Customers by State\")\n",
    "plt.show()"
   ]
  },
  {
   "cell_type": "markdown",
   "id": "23964a8f",
   "metadata": {},
   "source": [
    "## Count the number of orders placed per Year."
   ]
  },
  {
   "cell_type": "code",
   "execution_count": 8,
   "id": "c1c1e6e0",
   "metadata": {},
   "outputs": [
    {
     "data": {
      "text/html": [
       "<div>\n",
       "<style scoped>\n",
       "    .dataframe tbody tr th:only-of-type {\n",
       "        vertical-align: middle;\n",
       "    }\n",
       "\n",
       "    .dataframe tbody tr th {\n",
       "        vertical-align: top;\n",
       "    }\n",
       "\n",
       "    .dataframe thead th {\n",
       "        text-align: right;\n",
       "    }\n",
       "</style>\n",
       "<table border=\"1\" class=\"dataframe\">\n",
       "  <thead>\n",
       "    <tr style=\"text-align: right;\">\n",
       "      <th></th>\n",
       "      <th>year</th>\n",
       "      <th>Order_placed</th>\n",
       "    </tr>\n",
       "  </thead>\n",
       "  <tbody>\n",
       "    <tr>\n",
       "      <th>0</th>\n",
       "      <td>2017</td>\n",
       "      <td>45101</td>\n",
       "    </tr>\n",
       "    <tr>\n",
       "      <th>1</th>\n",
       "      <td>2018</td>\n",
       "      <td>54011</td>\n",
       "    </tr>\n",
       "    <tr>\n",
       "      <th>2</th>\n",
       "      <td>2016</td>\n",
       "      <td>329</td>\n",
       "    </tr>\n",
       "  </tbody>\n",
       "</table>\n",
       "</div>"
      ],
      "text/plain": [
       "   year  Order_placed\n",
       "0  2017         45101\n",
       "1  2018         54011\n",
       "2  2016           329"
      ]
     },
     "execution_count": 8,
     "metadata": {},
     "output_type": "execute_result"
    }
   ],
   "source": [
    "query= \"\"\"select year(order_purchase_timestamp) as year, count(*) from orders group by year\"\"\"\n",
    "cursor.execute(query)\n",
    "result=cursor.fetchall()\n",
    "df=pd.DataFrame(result, columns=[\"year\",\"Order_placed\"])\n",
    "df\n"
   ]
  },
  {
   "cell_type": "code",
   "execution_count": 9,
   "id": "48ee4ef2",
   "metadata": {},
   "outputs": [
    {
     "data": {
      "image/png": "[encoded data removed]",
      "text/plain": [
       "<Figure size 576x288 with 1 Axes>"
      ]
     },
     "metadata": {
      "needs_background": "light"
     },
     "output_type": "display_data"
    }
   ],
   "source": [
    "fig=plt.figure(figsize=(8,4))\n",
    "ax=sns.barplot(x=\"year\",y=\"Order_placed\", data=df)\n",
    "ax.bar_label(ax.containers[0],fontsize=15)\n",
    "plt.title(\"Count of Orders by Years\")\n",
    "plt.show()"
   ]
  },
  {
   "cell_type": "markdown",
   "id": "04318c98",
   "metadata": {},
   "source": [
    "## Distinct payment type used for payment."
   ]
  },
  {
   "cell_type": "code",
   "execution_count": 10,
   "id": "205c13e6",
   "metadata": {},
   "outputs": [
    {
     "data": {
      "text/html": [
       "<div>\n",
       "<style scoped>\n",
       "    .dataframe tbody tr th:only-of-type {\n",
       "        vertical-align: middle;\n",
       "    }\n",
       "\n",
       "    .dataframe tbody tr th {\n",
       "        vertical-align: top;\n",
       "    }\n",
       "\n",
       "    .dataframe thead th {\n",
       "        text-align: right;\n",
       "    }\n",
       "</style>\n",
       "<table border=\"1\" class=\"dataframe\">\n",
       "  <thead>\n",
       "    <tr style=\"text-align: right;\">\n",
       "      <th></th>\n",
       "      <th>Payment_type</th>\n",
       "    </tr>\n",
       "  </thead>\n",
       "  <tbody>\n",
       "    <tr>\n",
       "      <th>0</th>\n",
       "      <td>credit_card</td>\n",
       "    </tr>\n",
       "    <tr>\n",
       "      <th>1</th>\n",
       "      <td>boleto</td>\n",
       "    </tr>\n",
       "    <tr>\n",
       "      <th>2</th>\n",
       "      <td>voucher</td>\n",
       "    </tr>\n",
       "    <tr>\n",
       "      <th>3</th>\n",
       "      <td>debit_card</td>\n",
       "    </tr>\n",
       "    <tr>\n",
       "      <th>4</th>\n",
       "      <td>not_defined</td>\n",
       "    </tr>\n",
       "  </tbody>\n",
       "</table>\n",
       "</div>"
      ],
      "text/plain": [
       "  Payment_type\n",
       "0  credit_card\n",
       "1       boleto\n",
       "2      voucher\n",
       "3   debit_card\n",
       "4  not_defined"
      ]
     },
     "execution_count": 10,
     "metadata": {},
     "output_type": "execute_result"
    }
   ],
   "source": [
    "query= \"\"\"select distinct payment_type from payments\"\"\"\n",
    "cursor.execute(query)\n",
    "result=cursor.fetchall()\n",
    "df=pd.DataFrame(result, columns=[\"Payment_type\"])\n",
    "df"
   ]
  },
  {
   "cell_type": "markdown",
   "id": "62278974",
   "metadata": {},
   "source": [
    "## Average Payment Value by Payment Type."
   ]
  },
  {
   "cell_type": "code",
   "execution_count": 11,
   "id": "bc73cee3",
   "metadata": {},
   "outputs": [
    {
     "data": {
      "text/html": [
       "<div>\n",
       "<style scoped>\n",
       "    .dataframe tbody tr th:only-of-type {\n",
       "        vertical-align: middle;\n",
       "    }\n",
       "\n",
       "    .dataframe tbody tr th {\n",
       "        vertical-align: top;\n",
       "    }\n",
       "\n",
       "    .dataframe thead th {\n",
       "        text-align: right;\n",
       "    }\n",
       "</style>\n",
       "<table border=\"1\" class=\"dataframe\">\n",
       "  <thead>\n",
       "    <tr style=\"text-align: right;\">\n",
       "      <th></th>\n",
       "      <th>Payment_type</th>\n",
       "      <th>Average_Payment</th>\n",
       "    </tr>\n",
       "  </thead>\n",
       "  <tbody>\n",
       "    <tr>\n",
       "      <th>0</th>\n",
       "      <td>credit_card</td>\n",
       "      <td>163.319021</td>\n",
       "    </tr>\n",
       "    <tr>\n",
       "      <th>1</th>\n",
       "      <td>boleto</td>\n",
       "      <td>145.034435</td>\n",
       "    </tr>\n",
       "    <tr>\n",
       "      <th>2</th>\n",
       "      <td>voucher</td>\n",
       "      <td>65.703354</td>\n",
       "    </tr>\n",
       "    <tr>\n",
       "      <th>3</th>\n",
       "      <td>debit_card</td>\n",
       "      <td>142.570170</td>\n",
       "    </tr>\n",
       "    <tr>\n",
       "      <th>4</th>\n",
       "      <td>not_defined</td>\n",
       "      <td>0.000000</td>\n",
       "    </tr>\n",
       "  </tbody>\n",
       "</table>\n",
       "</div>"
      ],
      "text/plain": [
       "  Payment_type  Average_Payment\n",
       "0  credit_card       163.319021\n",
       "1       boleto       145.034435\n",
       "2      voucher        65.703354\n",
       "3   debit_card       142.570170\n",
       "4  not_defined         0.000000"
      ]
     },
     "execution_count": 11,
     "metadata": {},
     "output_type": "execute_result"
    }
   ],
   "source": [
    "query= \"\"\"select payment_type, avg(payment_value) from payments group by payment_type\"\"\"\n",
    "cursor.execute(query)\n",
    "result=cursor.fetchall()\n",
    "df=pd.DataFrame(result, columns=[\"Payment_type\",\"Average_Payment\"])\n",
    "df"
   ]
  },
  {
   "cell_type": "markdown",
   "id": "0c5dcbd3",
   "metadata": {},
   "source": [
    "## Average Delivery Time by State."
   ]
  },
  {
   "cell_type": "code",
   "execution_count": 12,
   "id": "8a8dd67e",
   "metadata": {},
   "outputs": [
    {
     "data": {
      "text/html": [
       "<div>\n",
       "<style scoped>\n",
       "    .dataframe tbody tr th:only-of-type {\n",
       "        vertical-align: middle;\n",
       "    }\n",
       "\n",
       "    .dataframe tbody tr th {\n",
       "        vertical-align: top;\n",
       "    }\n",
       "\n",
       "    .dataframe thead th {\n",
       "        text-align: right;\n",
       "    }\n",
       "</style>\n",
       "<table border=\"1\" class=\"dataframe\">\n",
       "  <thead>\n",
       "    <tr style=\"text-align: right;\">\n",
       "      <th></th>\n",
       "      <th>State</th>\n",
       "      <th>avg_del_time_days</th>\n",
       "    </tr>\n",
       "  </thead>\n",
       "  <tbody>\n",
       "    <tr>\n",
       "      <th>0</th>\n",
       "      <td>SP</td>\n",
       "      <td>8.7005</td>\n",
       "    </tr>\n",
       "    <tr>\n",
       "      <th>1</th>\n",
       "      <td>PR</td>\n",
       "      <td>11.9380</td>\n",
       "    </tr>\n",
       "    <tr>\n",
       "      <th>2</th>\n",
       "      <td>RS</td>\n",
       "      <td>15.2485</td>\n",
       "    </tr>\n",
       "    <tr>\n",
       "      <th>3</th>\n",
       "      <td>MG</td>\n",
       "      <td>11.9465</td>\n",
       "    </tr>\n",
       "    <tr>\n",
       "      <th>4</th>\n",
       "      <td>BA</td>\n",
       "      <td>19.2786</td>\n",
       "    </tr>\n",
       "  </tbody>\n",
       "</table>\n",
       "</div>"
      ],
      "text/plain": [
       "  State avg_del_time_days\n",
       "0    SP            8.7005\n",
       "1    PR           11.9380\n",
       "2    RS           15.2485\n",
       "3    MG           11.9465\n",
       "4    BA           19.2786"
      ]
     },
     "execution_count": 12,
     "metadata": {},
     "output_type": "execute_result"
    }
   ],
   "source": [
    "query= \"\"\"select customers.customer_state, \n",
    "          avg(datediff(orders.order_delivered_customer_date, orders.order_purchase_timestamp))\n",
    "          from orders join customers on orders.customer_id=customers.customer_id\n",
    "          where orders.order_delivered_customer_date is not null\n",
    "          group by customers.customer_state\"\"\"\n",
    "cursor.execute(query)\n",
    "result=cursor.fetchall()\n",
    "df=pd.DataFrame(result, columns=[\"State\",\"avg_del_time_days\"])\n",
    "df.head()"
   ]
  },
  {
   "cell_type": "markdown",
   "id": "d62f9f73",
   "metadata": {},
   "source": [
    "## Percentage of orders that were paid in installments."
   ]
  },
  {
   "cell_type": "code",
   "execution_count": 13,
   "id": "4a3e27a9",
   "metadata": {},
   "outputs": [
    {
     "name": "stdout",
     "output_type": "stream",
     "text": [
      "The percentage of orders that were paid in installments is:  49.4176\n"
     ]
    }
   ],
   "source": [
    "query= \"\"\"select sum(case when payment_installments>1 then 1 else 0 end)/count(*)*100 from payments\"\"\"\n",
    "cursor.execute(query)\n",
    "result=cursor.fetchall()\n",
    "print(\"The percentage of orders that were paid in installments is: \",result[0][0])"
   ]
  },
  {
   "cell_type": "markdown",
   "id": "e8482251",
   "metadata": {},
   "source": [
    "## Find the total sales per category."
   ]
  },
  {
   "cell_type": "code",
   "execution_count": 14,
   "id": "6471fbdb",
   "metadata": {},
   "outputs": [
    {
     "data": {
      "text/html": [
       "<div>\n",
       "<style scoped>\n",
       "    .dataframe tbody tr th:only-of-type {\n",
       "        vertical-align: middle;\n",
       "    }\n",
       "\n",
       "    .dataframe tbody tr th {\n",
       "        vertical-align: top;\n",
       "    }\n",
       "\n",
       "    .dataframe thead th {\n",
       "        text-align: right;\n",
       "    }\n",
       "</style>\n",
       "<table border=\"1\" class=\"dataframe\">\n",
       "  <thead>\n",
       "    <tr style=\"text-align: right;\">\n",
       "      <th></th>\n",
       "      <th>product_category</th>\n",
       "      <th>total_sale</th>\n",
       "    </tr>\n",
       "  </thead>\n",
       "  <tbody>\n",
       "    <tr>\n",
       "      <th>0</th>\n",
       "      <td>cama_mesa_banho</td>\n",
       "      <td>1712553.67</td>\n",
       "    </tr>\n",
       "    <tr>\n",
       "      <th>1</th>\n",
       "      <td>beleza_saude</td>\n",
       "      <td>1657373.12</td>\n",
       "    </tr>\n",
       "    <tr>\n",
       "      <th>2</th>\n",
       "      <td>informatica_acessorios</td>\n",
       "      <td>1585330.45</td>\n",
       "    </tr>\n",
       "    <tr>\n",
       "      <th>3</th>\n",
       "      <td>moveis_decoracao</td>\n",
       "      <td>1430176.39</td>\n",
       "    </tr>\n",
       "    <tr>\n",
       "      <th>4</th>\n",
       "      <td>relogios_presentes</td>\n",
       "      <td>1429216.68</td>\n",
       "    </tr>\n",
       "  </tbody>\n",
       "</table>\n",
       "</div>"
      ],
      "text/plain": [
       "         product_category  total_sale\n",
       "0         cama_mesa_banho  1712553.67\n",
       "1            beleza_saude  1657373.12\n",
       "2  informatica_acessorios  1585330.45\n",
       "3        moveis_decoracao  1430176.39\n",
       "4      relogios_presentes  1429216.68"
      ]
     },
     "execution_count": 14,
     "metadata": {},
     "output_type": "execute_result"
    }
   ],
   "source": [
    "query= \"\"\"select products.product_category_name, round(sum(payments.payment_value),2) as payment \n",
    "          from products join order_items on products.product_id=order_items.product_id\n",
    "          join payments on payments.order_id=order_items.order_id group by product_category_name\n",
    "          order by payment desc\"\"\"\n",
    "cursor.execute(query)\n",
    "result=cursor.fetchall()\n",
    "df=pd.DataFrame(result, columns=[\"product_category\",\"total_sale\"])\n",
    "df.head()"
   ]
  },
  {
   "cell_type": "markdown",
   "id": "ab8a1517",
   "metadata": {},
   "source": [
    "## Total Revenue generated and orders count by States"
   ]
  },
  {
   "cell_type": "code",
   "execution_count": 15,
   "id": "e9e96262",
   "metadata": {},
   "outputs": [
    {
     "data": {
      "text/html": [
       "<div>\n",
       "<style scoped>\n",
       "    .dataframe tbody tr th:only-of-type {\n",
       "        vertical-align: middle;\n",
       "    }\n",
       "\n",
       "    .dataframe tbody tr th {\n",
       "        vertical-align: top;\n",
       "    }\n",
       "\n",
       "    .dataframe thead th {\n",
       "        text-align: right;\n",
       "    }\n",
       "</style>\n",
       "<table border=\"1\" class=\"dataframe\">\n",
       "  <thead>\n",
       "    <tr style=\"text-align: right;\">\n",
       "      <th></th>\n",
       "      <th>customer_state</th>\n",
       "      <th>total_revenue</th>\n",
       "      <th>total_orders</th>\n",
       "    </tr>\n",
       "  </thead>\n",
       "  <tbody>\n",
       "    <tr>\n",
       "      <th>0</th>\n",
       "      <td>GO</td>\n",
       "      <td>347706.93</td>\n",
       "      <td>2333</td>\n",
       "    </tr>\n",
       "    <tr>\n",
       "      <th>1</th>\n",
       "      <td>SP</td>\n",
       "      <td>5921678.12</td>\n",
       "      <td>47449</td>\n",
       "    </tr>\n",
       "    <tr>\n",
       "      <th>2</th>\n",
       "      <td>DF</td>\n",
       "      <td>353229.44</td>\n",
       "      <td>2406</td>\n",
       "    </tr>\n",
       "    <tr>\n",
       "      <th>3</th>\n",
       "      <td>MG</td>\n",
       "      <td>1856161.49</td>\n",
       "      <td>13129</td>\n",
       "    </tr>\n",
       "    <tr>\n",
       "      <th>4</th>\n",
       "      <td>MS</td>\n",
       "      <td>135956.67</td>\n",
       "      <td>819</td>\n",
       "    </tr>\n",
       "  </tbody>\n",
       "</table>\n",
       "</div>"
      ],
      "text/plain": [
       "  customer_state  total_revenue  total_orders\n",
       "0             GO      347706.93          2333\n",
       "1             SP     5921678.12         47449\n",
       "2             DF      353229.44          2406\n",
       "3             MG     1856161.49         13129\n",
       "4             MS      135956.67           819"
      ]
     },
     "execution_count": 15,
     "metadata": {},
     "output_type": "execute_result"
    }
   ],
   "source": [
    "query= \"\"\"select c.customer_state, round(sum(oi.price+oi.freight_value),2) as total_revenue,\n",
    "          count(orders.order_id) as total_orders\n",
    "          from order_items oi join orders on oi.order_id=orders.order_id\n",
    "          join customers c on orders.customer_id=c.customer_id\n",
    "          group by customer_state\"\"\"\n",
    "cursor.execute(query)\n",
    "result=cursor.fetchall()\n",
    "df=pd.DataFrame(result, columns=[\"customer_state\",\"total_revenue\",\"total_orders\"])\n",
    "df.head()"
   ]
  },
  {
   "cell_type": "code",
   "execution_count": 16,
   "id": "46bdbf4d",
   "metadata": {},
   "outputs": [
    {
     "data": {
      "image/png": "[encoded data removed]",
      "text/plain": [
       "<Figure size 1296x432 with 2 Axes>"
      ]
     },
     "metadata": {
      "needs_background": "light"
     },
     "output_type": "display_data"
    }
   ],
   "source": [
    "fig, ax1=plt.subplots(figsize=(18,6))\n",
    "sns.barplot(x=\"customer_state\",y=\"total_revenue\",data=df,label=\"total Revenue\", ax=ax1)\n",
    "ax2=ax1.twinx()\n",
    "sns.lineplot(x=\"customer_state\",y=\"total_orders\",data=df, ax=ax2,\n",
    "             label=\"total Orders\", color=\"red\",linewidth=\"2\",marker=\"o\",markerfacecolor=\"k\")\n",
    "for x,y in zip(df[\"customer_state\"],df[\"total_orders\"]):\n",
    "    ax2.text(x,y, f\"{y}\",fontsize=12,c=\"maroon\")\n",
    "ax1.set_title(\"Total Revenue generated and orders count by States\",fontsize=20,color=\"darkred\")\n",
    "ax1.legend(loc=\"upper right\", bbox_to_anchor=(1, 1), fontsize=12)\n",
    "ax2.legend(loc=\"upper right\", bbox_to_anchor=(1, 0.9), fontsize=12)\n",
    "ax1.set_xlabel(\"Customers State\",fontsize=15,color=\"k\")\n",
    "ax1.set_ylabel(\"Total Revenue\",fontsize=15,color=\"k\")\n",
    "ax2.set_ylabel(\"Total Orders\",fontsize=15,color=\"k\")\n",
    "plt.show()"
   ]
  },
  {
   "cell_type": "markdown",
   "id": "11a88d87",
   "metadata": {},
   "source": [
    "## Order Count and Total Payment per Month."
   ]
  },
  {
   "cell_type": "code",
   "execution_count": 17,
   "id": "dbaf7436",
   "metadata": {},
   "outputs": [
    {
     "data": {
      "text/html": [
       "<div>\n",
       "<style scoped>\n",
       "    .dataframe tbody tr th:only-of-type {\n",
       "        vertical-align: middle;\n",
       "    }\n",
       "\n",
       "    .dataframe tbody tr th {\n",
       "        vertical-align: top;\n",
       "    }\n",
       "\n",
       "    .dataframe thead th {\n",
       "        text-align: right;\n",
       "    }\n",
       "</style>\n",
       "<table border=\"1\" class=\"dataframe\">\n",
       "  <thead>\n",
       "    <tr style=\"text-align: right;\">\n",
       "      <th></th>\n",
       "      <th>Month/Year</th>\n",
       "      <th>Total_Orders</th>\n",
       "      <th>Total_payment</th>\n",
       "    </tr>\n",
       "  </thead>\n",
       "  <tbody>\n",
       "    <tr>\n",
       "      <th>0</th>\n",
       "      <td>01/17</td>\n",
       "      <td>850</td>\n",
       "      <td>138488.04</td>\n",
       "    </tr>\n",
       "    <tr>\n",
       "      <th>1</th>\n",
       "      <td>01/18</td>\n",
       "      <td>7563</td>\n",
       "      <td>1115004.18</td>\n",
       "    </tr>\n",
       "    <tr>\n",
       "      <th>2</th>\n",
       "      <td>02/17</td>\n",
       "      <td>1886</td>\n",
       "      <td>291908.01</td>\n",
       "    </tr>\n",
       "    <tr>\n",
       "      <th>3</th>\n",
       "      <td>02/18</td>\n",
       "      <td>6952</td>\n",
       "      <td>992463.34</td>\n",
       "    </tr>\n",
       "    <tr>\n",
       "      <th>4</th>\n",
       "      <td>03/17</td>\n",
       "      <td>2837</td>\n",
       "      <td>449863.60</td>\n",
       "    </tr>\n",
       "  </tbody>\n",
       "</table>\n",
       "</div>"
      ],
      "text/plain": [
       "  Month/Year  Total_Orders  Total_payment\n",
       "0      01/17           850      138488.04\n",
       "1      01/18          7563     1115004.18\n",
       "2      02/17          1886      291908.01\n",
       "3      02/18          6952      992463.34\n",
       "4      03/17          2837      449863.60"
      ]
     },
     "execution_count": 17,
     "metadata": {},
     "output_type": "execute_result"
    }
   ],
   "source": [
    "query= \"\"\"select date_format(order_purchase_timestamp, '%m/%y') as month,count(*), round(sum(payments.payment_value),2) \n",
    "        from orders join payments on orders.order_id = payments.order_id \n",
    "        group by month order by month\"\"\"\n",
    "cursor.execute(query)\n",
    "result=cursor.fetchall()\n",
    "df=pd.DataFrame(result, columns=[\"Month/Year\",\"Total_Orders\",\"Total_payment\"])\n",
    "df.head()"
   ]
  },
  {
   "cell_type": "markdown",
   "id": "c4733a42",
   "metadata": {},
   "source": [
    "## Calculate the number of orders per month in 2018."
   ]
  },
  {
   "cell_type": "code",
   "execution_count": 18,
   "id": "d1bec9d9",
   "metadata": {},
   "outputs": [
    {
     "data": {
      "text/html": [
       "<div>\n",
       "<style scoped>\n",
       "    .dataframe tbody tr th:only-of-type {\n",
       "        vertical-align: middle;\n",
       "    }\n",
       "\n",
       "    .dataframe tbody tr th {\n",
       "        vertical-align: top;\n",
       "    }\n",
       "\n",
       "    .dataframe thead th {\n",
       "        text-align: right;\n",
       "    }\n",
       "</style>\n",
       "<table border=\"1\" class=\"dataframe\">\n",
       "  <thead>\n",
       "    <tr style=\"text-align: right;\">\n",
       "      <th></th>\n",
       "      <th>Months</th>\n",
       "      <th>Total_Orders</th>\n",
       "    </tr>\n",
       "  </thead>\n",
       "  <tbody>\n",
       "    <tr>\n",
       "      <th>0</th>\n",
       "      <td>July</td>\n",
       "      <td>6292</td>\n",
       "    </tr>\n",
       "    <tr>\n",
       "      <th>1</th>\n",
       "      <td>August</td>\n",
       "      <td>6512</td>\n",
       "    </tr>\n",
       "    <tr>\n",
       "      <th>2</th>\n",
       "      <td>February</td>\n",
       "      <td>6728</td>\n",
       "    </tr>\n",
       "    <tr>\n",
       "      <th>3</th>\n",
       "      <td>June</td>\n",
       "      <td>6167</td>\n",
       "    </tr>\n",
       "    <tr>\n",
       "      <th>4</th>\n",
       "      <td>March</td>\n",
       "      <td>7211</td>\n",
       "    </tr>\n",
       "  </tbody>\n",
       "</table>\n",
       "</div>"
      ],
      "text/plain": [
       "     Months  Total_Orders\n",
       "0      July          6292\n",
       "1    August          6512\n",
       "2  February          6728\n",
       "3      June          6167\n",
       "4     March          7211"
      ]
     },
     "execution_count": 18,
     "metadata": {},
     "output_type": "execute_result"
    }
   ],
   "source": [
    "query= \"\"\"select monthname(order_purchase_timestamp) as month,count(order_id) from orders \n",
    "          where year(order_purchase_timestamp)=\"2018\" group by month \"\"\"\n",
    "cursor.execute(query)\n",
    "result=cursor.fetchall()\n",
    "df=pd.DataFrame(result, columns=[\"Months\",\"Total_Orders\"])\n",
    "df.head()"
   ]
  },
  {
   "cell_type": "markdown",
   "id": "881aff9a",
   "metadata": {},
   "source": [
    "## Month wise payment generated for each year."
   ]
  },
  {
   "cell_type": "code",
   "execution_count": 19,
   "id": "c01b89e3",
   "metadata": {},
   "outputs": [
    {
     "data": {
      "text/html": [
       "<div>\n",
       "<style scoped>\n",
       "    .dataframe tbody tr th:only-of-type {\n",
       "        vertical-align: middle;\n",
       "    }\n",
       "\n",
       "    .dataframe tbody tr th {\n",
       "        vertical-align: top;\n",
       "    }\n",
       "\n",
       "    .dataframe thead th {\n",
       "        text-align: right;\n",
       "    }\n",
       "</style>\n",
       "<table border=\"1\" class=\"dataframe\">\n",
       "  <thead>\n",
       "    <tr style=\"text-align: right;\">\n",
       "      <th></th>\n",
       "      <th>Years</th>\n",
       "      <th>Months</th>\n",
       "      <th>Total_payment</th>\n",
       "    </tr>\n",
       "  </thead>\n",
       "  <tbody>\n",
       "    <tr>\n",
       "      <th>0</th>\n",
       "      <td>2017</td>\n",
       "      <td>September</td>\n",
       "      <td>727762.45</td>\n",
       "    </tr>\n",
       "    <tr>\n",
       "      <th>1</th>\n",
       "      <td>2018</td>\n",
       "      <td>August</td>\n",
       "      <td>1022425.32</td>\n",
       "    </tr>\n",
       "    <tr>\n",
       "      <th>2</th>\n",
       "      <td>2018</td>\n",
       "      <td>April</td>\n",
       "      <td>1160785.48</td>\n",
       "    </tr>\n",
       "    <tr>\n",
       "      <th>3</th>\n",
       "      <td>2018</td>\n",
       "      <td>June</td>\n",
       "      <td>1023880.50</td>\n",
       "    </tr>\n",
       "    <tr>\n",
       "      <th>4</th>\n",
       "      <td>2018</td>\n",
       "      <td>January</td>\n",
       "      <td>1115004.18</td>\n",
       "    </tr>\n",
       "  </tbody>\n",
       "</table>\n",
       "</div>"
      ],
      "text/plain": [
       "   Years     Months  Total_payment\n",
       "0   2017  September      727762.45\n",
       "1   2018     August     1022425.32\n",
       "2   2018      April     1160785.48\n",
       "3   2018       June     1023880.50\n",
       "4   2018    January     1115004.18"
      ]
     },
     "execution_count": 19,
     "metadata": {},
     "output_type": "execute_result"
    }
   ],
   "source": [
    "query= \"\"\"select year(order_purchase_timestamp) as years, monthname(order_purchase_timestamp) as months,\n",
    "          round(sum(payments.payment_value),2) \n",
    "        from orders join payments on orders.order_id = payments.order_id \n",
    "        group by years, months\"\"\"\n",
    "cursor.execute(query)\n",
    "result=cursor.fetchall()\n",
    "df=pd.DataFrame(result, columns=[\"Years\",\"Months\",\"Total_payment\"])\n",
    "df.head()"
   ]
  },
  {
   "cell_type": "code",
   "execution_count": 20,
   "id": "1017cf30",
   "metadata": {},
   "outputs": [
    {
     "data": {
      "image/png": "[encoded data removed]",
      "text/plain": [
       "<Figure size 1296x360 with 1 Axes>"
      ]
     },
     "metadata": {
      "needs_background": "light"
     },
     "output_type": "display_data"
    }
   ],
   "source": [
    "#import matplotlib.ticker as mticker\n",
    "fig=plt.figure(figsize=(18,5))\n",
    "palette = ['tab:blue', 'tab:green', 'tab:red']\n",
    "order=[\"January\",\"February\",\"March\",\"April\",\"May\",\"June\",\"July\",\"August\",\"September\",\"October\",\"November\",\"December\"]\n",
    "ax=sns.barplot(x=\"Months\",y=\"Total_payment\",data=df,estimator=sum, hue=\"Years\",order=order,palette=palette)\n",
    "ax.bar_label(ax.containers[0])\n",
    "ax.bar_label(ax.containers[1], fmt=\"%.0f\")\n",
    "ax.bar_label(ax.containers[2], fmt=\"%.0f\")\n",
    "#ax.yaxis.set_major_formatter(mticker.StrMethodFormatter(\"{x:,.0f}\"))\n",
    "plt.title(\"Month Wise Payment Generated For Each Year \")\n",
    "plt.show()"
   ]
  },
  {
   "cell_type": "markdown",
   "id": "f1f8f8c7",
   "metadata": {},
   "source": [
    "## Calculate the cumulative sales per month for each year."
   ]
  },
  {
   "cell_type": "code",
   "execution_count": 21,
   "id": "32444895",
   "metadata": {},
   "outputs": [
    {
     "data": {
      "text/html": [
       "<div>\n",
       "<style scoped>\n",
       "    .dataframe tbody tr th:only-of-type {\n",
       "        vertical-align: middle;\n",
       "    }\n",
       "\n",
       "    .dataframe tbody tr th {\n",
       "        vertical-align: top;\n",
       "    }\n",
       "\n",
       "    .dataframe thead th {\n",
       "        text-align: right;\n",
       "    }\n",
       "</style>\n",
       "<table border=\"1\" class=\"dataframe\">\n",
       "  <thead>\n",
       "    <tr style=\"text-align: right;\">\n",
       "      <th></th>\n",
       "      <th>Years</th>\n",
       "      <th>Month_no</th>\n",
       "      <th>Months</th>\n",
       "      <th>Sale</th>\n",
       "      <th>Comulative_Sale</th>\n",
       "    </tr>\n",
       "  </thead>\n",
       "  <tbody>\n",
       "    <tr>\n",
       "      <th>0</th>\n",
       "      <td>2016</td>\n",
       "      <td>9</td>\n",
       "      <td>September</td>\n",
       "      <td>252.24</td>\n",
       "      <td>252.24</td>\n",
       "    </tr>\n",
       "    <tr>\n",
       "      <th>1</th>\n",
       "      <td>2016</td>\n",
       "      <td>10</td>\n",
       "      <td>October</td>\n",
       "      <td>59090.48</td>\n",
       "      <td>59342.72</td>\n",
       "    </tr>\n",
       "    <tr>\n",
       "      <th>2</th>\n",
       "      <td>2016</td>\n",
       "      <td>12</td>\n",
       "      <td>December</td>\n",
       "      <td>19.62</td>\n",
       "      <td>59362.34</td>\n",
       "    </tr>\n",
       "    <tr>\n",
       "      <th>3</th>\n",
       "      <td>2017</td>\n",
       "      <td>1</td>\n",
       "      <td>January</td>\n",
       "      <td>138488.04</td>\n",
       "      <td>138488.04</td>\n",
       "    </tr>\n",
       "    <tr>\n",
       "      <th>4</th>\n",
       "      <td>2017</td>\n",
       "      <td>2</td>\n",
       "      <td>February</td>\n",
       "      <td>291908.01</td>\n",
       "      <td>430396.05</td>\n",
       "    </tr>\n",
       "    <tr>\n",
       "      <th>5</th>\n",
       "      <td>2017</td>\n",
       "      <td>3</td>\n",
       "      <td>March</td>\n",
       "      <td>449863.60</td>\n",
       "      <td>880259.65</td>\n",
       "    </tr>\n",
       "    <tr>\n",
       "      <th>6</th>\n",
       "      <td>2017</td>\n",
       "      <td>4</td>\n",
       "      <td>April</td>\n",
       "      <td>417788.03</td>\n",
       "      <td>1298047.68</td>\n",
       "    </tr>\n",
       "    <tr>\n",
       "      <th>7</th>\n",
       "      <td>2017</td>\n",
       "      <td>5</td>\n",
       "      <td>May</td>\n",
       "      <td>592918.82</td>\n",
       "      <td>1890966.50</td>\n",
       "    </tr>\n",
       "    <tr>\n",
       "      <th>8</th>\n",
       "      <td>2017</td>\n",
       "      <td>6</td>\n",
       "      <td>June</td>\n",
       "      <td>511276.38</td>\n",
       "      <td>2402242.88</td>\n",
       "    </tr>\n",
       "    <tr>\n",
       "      <th>9</th>\n",
       "      <td>2017</td>\n",
       "      <td>7</td>\n",
       "      <td>July</td>\n",
       "      <td>592382.92</td>\n",
       "      <td>2994625.80</td>\n",
       "    </tr>\n",
       "  </tbody>\n",
       "</table>\n",
       "</div>"
      ],
      "text/plain": [
       "   Years  Month_no     Months       Sale  Comulative_Sale\n",
       "0   2016         9  September     252.24           252.24\n",
       "1   2016        10    October   59090.48         59342.72\n",
       "2   2016        12   December      19.62         59362.34\n",
       "3   2017         1    January  138488.04        138488.04\n",
       "4   2017         2   February  291908.01        430396.05\n",
       "5   2017         3      March  449863.60        880259.65\n",
       "6   2017         4      April  417788.03       1298047.68\n",
       "7   2017         5        May  592918.82       1890966.50\n",
       "8   2017         6       June  511276.38       2402242.88\n",
       "9   2017         7       July  592382.92       2994625.80"
      ]
     },
     "execution_count": 21,
     "metadata": {},
     "output_type": "execute_result"
    }
   ],
   "source": [
    "query= \"\"\"select years,monthno, months,payment,sum(payment) over(partition by years order by monthno) as comulative_sale\n",
    "         from (select year(orders.order_purchase_timestamp) as years, monthname(orders.order_purchase_timestamp) as months,\n",
    "          month(orders.order_purchase_timestamp) as monthno, round(sum(payments.payment_value),2) as payment \n",
    "        from orders join payments on orders.order_id = payments.order_id \n",
    "        group by years,months,monthno order by years,monthno) as t1 \"\"\"\n",
    "cursor.execute(query)\n",
    "result=cursor.fetchall()\n",
    "df=pd.DataFrame(result, columns=[\"Years\",\"Month_no\",\"Months\",\"Sale\",\"Comulative_Sale\"])\n",
    "df.head(10)"
   ]
  },
  {
   "cell_type": "markdown",
   "id": "c6069978",
   "metadata": {},
   "source": [
    "## Calculate the year-over-year growth rate of total sales."
   ]
  },
  {
   "cell_type": "code",
   "execution_count": 22,
   "id": "d035641d",
   "metadata": {},
   "outputs": [
    {
     "data": {
      "text/html": [
       "<div>\n",
       "<style scoped>\n",
       "    .dataframe tbody tr th:only-of-type {\n",
       "        vertical-align: middle;\n",
       "    }\n",
       "\n",
       "    .dataframe tbody tr th {\n",
       "        vertical-align: top;\n",
       "    }\n",
       "\n",
       "    .dataframe thead th {\n",
       "        text-align: right;\n",
       "    }\n",
       "</style>\n",
       "<table border=\"1\" class=\"dataframe\">\n",
       "  <thead>\n",
       "    <tr style=\"text-align: right;\">\n",
       "      <th></th>\n",
       "      <th>Years</th>\n",
       "      <th>Sale</th>\n",
       "      <th>Sale_growth_yoy</th>\n",
       "    </tr>\n",
       "  </thead>\n",
       "  <tbody>\n",
       "    <tr>\n",
       "      <th>0</th>\n",
       "      <td>2016</td>\n",
       "      <td>59362.34</td>\n",
       "      <td>NaN</td>\n",
       "    </tr>\n",
       "    <tr>\n",
       "      <th>1</th>\n",
       "      <td>2017</td>\n",
       "      <td>7249746.73</td>\n",
       "      <td>12112.703761</td>\n",
       "    </tr>\n",
       "    <tr>\n",
       "      <th>2</th>\n",
       "      <td>2018</td>\n",
       "      <td>8699763.05</td>\n",
       "      <td>20.000924</td>\n",
       "    </tr>\n",
       "  </tbody>\n",
       "</table>\n",
       "</div>"
      ],
      "text/plain": [
       "   Years        Sale  Sale_growth_yoy\n",
       "0   2016    59362.34              NaN\n",
       "1   2017  7249746.73     12112.703761\n",
       "2   2018  8699763.05        20.000924"
      ]
     },
     "execution_count": 22,
     "metadata": {},
     "output_type": "execute_result"
    }
   ],
   "source": [
    "query= \"\"\"select years, payment,(payment-lag(payment,1) over(order by years))/lag(payment,1) over(order by years)*100 from \n",
    "         (select year(orders.order_purchase_timestamp) as years,\n",
    "         round(sum(payments.payment_value),2) as payment \n",
    "        from orders join payments on orders.order_id = payments.order_id \n",
    "        group by years order by years) as t1\"\"\"\n",
    "cursor.execute(query)\n",
    "result=cursor.fetchall()\n",
    "df=pd.DataFrame(result, columns=[\"Years\",\"Sale\",\"Sale_growth_yoy\"])\n",
    "df"
   ]
  },
  {
   "cell_type": "markdown",
   "id": "0bf8e391",
   "metadata": {},
   "source": [
    "## Calculate the total revenue generated by each seller, and rank them by revenue."
   ]
  },
  {
   "cell_type": "code",
   "execution_count": 23,
   "id": "5836af09",
   "metadata": {},
   "outputs": [
    {
     "data": {
      "text/html": [
       "<div>\n",
       "<style scoped>\n",
       "    .dataframe tbody tr th:only-of-type {\n",
       "        vertical-align: middle;\n",
       "    }\n",
       "\n",
       "    .dataframe tbody tr th {\n",
       "        vertical-align: top;\n",
       "    }\n",
       "\n",
       "    .dataframe thead th {\n",
       "        text-align: right;\n",
       "    }\n",
       "</style>\n",
       "<table border=\"1\" class=\"dataframe\">\n",
       "  <thead>\n",
       "    <tr style=\"text-align: right;\">\n",
       "      <th></th>\n",
       "      <th>seller_id</th>\n",
       "      <th>revenue</th>\n",
       "      <th>rank</th>\n",
       "    </tr>\n",
       "  </thead>\n",
       "  <tbody>\n",
       "    <tr>\n",
       "      <th>0</th>\n",
       "      <td>7c67e1448b00f6e969d365cea6b010ab</td>\n",
       "      <td>507166.91</td>\n",
       "      <td>1</td>\n",
       "    </tr>\n",
       "    <tr>\n",
       "      <th>1</th>\n",
       "      <td>1025f0e2d44d7041d6cf58b6550e0bfa</td>\n",
       "      <td>308222.04</td>\n",
       "      <td>2</td>\n",
       "    </tr>\n",
       "    <tr>\n",
       "      <th>2</th>\n",
       "      <td>4a3ca9315b744ce9f8e9374361493884</td>\n",
       "      <td>301245.27</td>\n",
       "      <td>3</td>\n",
       "    </tr>\n",
       "    <tr>\n",
       "      <th>3</th>\n",
       "      <td>1f50f920176fa81dab994f9023523100</td>\n",
       "      <td>290253.42</td>\n",
       "      <td>4</td>\n",
       "    </tr>\n",
       "    <tr>\n",
       "      <th>4</th>\n",
       "      <td>53243585a1d6dc2643021fd1853d8905</td>\n",
       "      <td>284903.08</td>\n",
       "      <td>5</td>\n",
       "    </tr>\n",
       "  </tbody>\n",
       "</table>\n",
       "</div>"
      ],
      "text/plain": [
       "                          seller_id    revenue  rank\n",
       "0  7c67e1448b00f6e969d365cea6b010ab  507166.91     1\n",
       "1  1025f0e2d44d7041d6cf58b6550e0bfa  308222.04     2\n",
       "2  4a3ca9315b744ce9f8e9374361493884  301245.27     3\n",
       "3  1f50f920176fa81dab994f9023523100  290253.42     4\n",
       "4  53243585a1d6dc2643021fd1853d8905  284903.08     5"
      ]
     },
     "execution_count": 23,
     "metadata": {},
     "output_type": "execute_result"
    }
   ],
   "source": [
    "query= \"\"\"with a as(select order_items.seller_id, round(sum(payments.payment_value),2) as revenue \n",
    "                    from order_items join payments on order_items.order_id=payments.order_id \n",
    "                    group by order_items.seller_id)\n",
    "         select *, dense_rank() over(order by revenue desc) as rn from a\"\"\"\n",
    "cursor.execute(query)\n",
    "result=cursor.fetchall()\n",
    "df=pd.DataFrame(result, columns=[\"seller_id\",\"revenue\",\"rank\"])\n",
    "df.head()"
   ]
  },
  {
   "cell_type": "markdown",
   "id": "26cb669c",
   "metadata": {},
   "source": [
    "## Distribution of review score."
   ]
  },
  {
   "cell_type": "code",
   "execution_count": 24,
   "id": "1128be45",
   "metadata": {},
   "outputs": [
    {
     "data": {
      "text/html": [
       "<div>\n",
       "<style scoped>\n",
       "    .dataframe tbody tr th:only-of-type {\n",
       "        vertical-align: middle;\n",
       "    }\n",
       "\n",
       "    .dataframe tbody tr th {\n",
       "        vertical-align: top;\n",
       "    }\n",
       "\n",
       "    .dataframe thead th {\n",
       "        text-align: right;\n",
       "    }\n",
       "</style>\n",
       "<table border=\"1\" class=\"dataframe\">\n",
       "  <thead>\n",
       "    <tr style=\"text-align: right;\">\n",
       "      <th></th>\n",
       "      <th>rating</th>\n",
       "      <th>counts</th>\n",
       "    </tr>\n",
       "  </thead>\n",
       "  <tbody>\n",
       "    <tr>\n",
       "      <th>0</th>\n",
       "      <td>Good</td>\n",
       "      <td>19142</td>\n",
       "    </tr>\n",
       "    <tr>\n",
       "      <th>1</th>\n",
       "      <td>Very Good</td>\n",
       "      <td>57328</td>\n",
       "    </tr>\n",
       "    <tr>\n",
       "      <th>2</th>\n",
       "      <td>Very Bad</td>\n",
       "      <td>11424</td>\n",
       "    </tr>\n",
       "    <tr>\n",
       "      <th>3</th>\n",
       "      <td>Average</td>\n",
       "      <td>8179</td>\n",
       "    </tr>\n",
       "    <tr>\n",
       "      <th>4</th>\n",
       "      <td>Bad</td>\n",
       "      <td>3151</td>\n",
       "    </tr>\n",
       "  </tbody>\n",
       "</table>\n",
       "</div>"
      ],
      "text/plain": [
       "      rating  counts\n",
       "0       Good   19142\n",
       "1  Very Good   57328\n",
       "2   Very Bad   11424\n",
       "3    Average    8179\n",
       "4        Bad    3151"
      ]
     },
     "execution_count": 24,
     "metadata": {},
     "output_type": "execute_result"
    }
   ],
   "source": [
    "query= \"\"\"select (case \n",
    "                when review_score=5 then \"Very Good\" \n",
    "                when review_score=4 then \"Good\" \n",
    "                when review_score=3 then \"Average\" \n",
    "                when review_score=2 then \"Bad\" \n",
    "                when review_score=1 then \"Very Bad\" end) as rating, count(review_id)\n",
    "                from order_reviews group by rating\n",
    "                \"\"\"\n",
    "cursor.execute(query)\n",
    "result=cursor.fetchall()\n",
    "df=pd.DataFrame(result, columns=[\"rating\",\"counts\"])\n",
    "df"
   ]
  },
  {
   "cell_type": "code",
   "execution_count": 25,
   "id": "132fc074",
   "metadata": {},
   "outputs": [
    {
     "data": {
      "image/png": "[encoded data removed]",
      "text/plain": [
       "<Figure size 504x504 with 1 Axes>"
      ]
     },
     "metadata": {},
     "output_type": "display_data"
    }
   ],
   "source": [
    "text={\"fontsize\":15,\"color\":\"k\"}\n",
    "fig=plt.figure(figsize=(7,7))\n",
    "plt.pie(df[\"counts\"],labels=df[\"rating\"],autopct=\"%0.00f%%\",shadow=True, startangle=90,textprops=text)\n",
    "plt.title(\"Overall Review Distribution\",fontsize=20)\n",
    "plt.show()"
   ]
  },
  {
   "cell_type": "markdown",
   "id": "ad89326d",
   "metadata": {},
   "source": [
    "## Products with the Most Negative Reviews."
   ]
  },
  {
   "cell_type": "code",
   "execution_count": 26,
   "id": "64eedb79",
   "metadata": {},
   "outputs": [
    {
     "data": {
      "text/html": [
       "<div>\n",
       "<style scoped>\n",
       "    .dataframe tbody tr th:only-of-type {\n",
       "        vertical-align: middle;\n",
       "    }\n",
       "\n",
       "    .dataframe tbody tr th {\n",
       "        vertical-align: top;\n",
       "    }\n",
       "\n",
       "    .dataframe thead th {\n",
       "        text-align: right;\n",
       "    }\n",
       "</style>\n",
       "<table border=\"1\" class=\"dataframe\">\n",
       "  <thead>\n",
       "    <tr style=\"text-align: right;\">\n",
       "      <th></th>\n",
       "      <th>product_id</th>\n",
       "      <th>product_category_name</th>\n",
       "      <th>count_of_negative_reviews</th>\n",
       "    </tr>\n",
       "  </thead>\n",
       "  <tbody>\n",
       "    <tr>\n",
       "      <th>0</th>\n",
       "      <td>422879e10f46682990de24d770e7f83d</td>\n",
       "      <td>ferramentas_jardim</td>\n",
       "      <td>95</td>\n",
       "    </tr>\n",
       "    <tr>\n",
       "      <th>1</th>\n",
       "      <td>99a4788cb24856965c36a24e339b6058</td>\n",
       "      <td>cama_mesa_banho</td>\n",
       "      <td>80</td>\n",
       "    </tr>\n",
       "    <tr>\n",
       "      <th>2</th>\n",
       "      <td>53759a2ecddad2bb87a079a1f1519f73</td>\n",
       "      <td>ferramentas_jardim</td>\n",
       "      <td>77</td>\n",
       "    </tr>\n",
       "    <tr>\n",
       "      <th>3</th>\n",
       "      <td>368c6c730842d78016ad823897a372db</td>\n",
       "      <td>ferramentas_jardim</td>\n",
       "      <td>75</td>\n",
       "    </tr>\n",
       "    <tr>\n",
       "      <th>4</th>\n",
       "      <td>aca2eb7d00ea1a7b8ebd4e68314663af</td>\n",
       "      <td>moveis_decoracao</td>\n",
       "      <td>74</td>\n",
       "    </tr>\n",
       "    <tr>\n",
       "      <th>5</th>\n",
       "      <td>389d119b48cf3043d311335e499d9c6b</td>\n",
       "      <td>ferramentas_jardim</td>\n",
       "      <td>61</td>\n",
       "    </tr>\n",
       "    <tr>\n",
       "      <th>6</th>\n",
       "      <td>e53e557d5a159f5aa2c5e995dfdf244b</td>\n",
       "      <td>informatica_acessorios</td>\n",
       "      <td>58</td>\n",
       "    </tr>\n",
       "    <tr>\n",
       "      <th>7</th>\n",
       "      <td>b532349fe46b38fbc7bb3914c1bdae07</td>\n",
       "      <td>moveis_decoracao</td>\n",
       "      <td>52</td>\n",
       "    </tr>\n",
       "    <tr>\n",
       "      <th>8</th>\n",
       "      <td>36f60d45225e60c7da4558b070ce4b60</td>\n",
       "      <td>informatica_acessorios</td>\n",
       "      <td>48</td>\n",
       "    </tr>\n",
       "    <tr>\n",
       "      <th>9</th>\n",
       "      <td>7c1bd920dbdf22470b68bde975dd3ccf</td>\n",
       "      <td>beleza_saude</td>\n",
       "      <td>45</td>\n",
       "    </tr>\n",
       "  </tbody>\n",
       "</table>\n",
       "</div>"
      ],
      "text/plain": [
       "                         product_id   product_category_name  \\\n",
       "0  422879e10f46682990de24d770e7f83d      ferramentas_jardim   \n",
       "1  99a4788cb24856965c36a24e339b6058         cama_mesa_banho   \n",
       "2  53759a2ecddad2bb87a079a1f1519f73      ferramentas_jardim   \n",
       "3  368c6c730842d78016ad823897a372db      ferramentas_jardim   \n",
       "4  aca2eb7d00ea1a7b8ebd4e68314663af        moveis_decoracao   \n",
       "5  389d119b48cf3043d311335e499d9c6b      ferramentas_jardim   \n",
       "6  e53e557d5a159f5aa2c5e995dfdf244b  informatica_acessorios   \n",
       "7  b532349fe46b38fbc7bb3914c1bdae07        moveis_decoracao   \n",
       "8  36f60d45225e60c7da4558b070ce4b60  informatica_acessorios   \n",
       "9  7c1bd920dbdf22470b68bde975dd3ccf            beleza_saude   \n",
       "\n",
       "   count_of_negative_reviews  \n",
       "0                         95  \n",
       "1                         80  \n",
       "2                         77  \n",
       "3                         75  \n",
       "4                         74  \n",
       "5                         61  \n",
       "6                         58  \n",
       "7                         52  \n",
       "8                         48  \n",
       "9                         45  "
      ]
     },
     "execution_count": 26,
     "metadata": {},
     "output_type": "execute_result"
    }
   ],
   "source": [
    "query= \"\"\"select products.product_id, products.product_category_name, count(order_reviews.review_id) as nreview\n",
    "          from products join order_items on products.product_id = order_items.product_id\n",
    "          join order_reviews on order_items.order_id = order_reviews.order_id\n",
    "          where order_reviews.review_score in (1, 2)\n",
    "          group by products.product_id, products.product_category_name\n",
    "          order by nreview desc limit 30\"\"\"\n",
    "cursor.execute(query)\n",
    "result=cursor.fetchall()\n",
    "df=pd.DataFrame(result, columns=[\"product_id\",\"product_category_name\",\"count_of_negative_reviews\"])\n",
    "df.head(10)"
   ]
  },
  {
   "cell_type": "code",
   "execution_count": null,
   "id": "b247e688",
   "metadata": {},
   "outputs": [],
   "source": []
  }
 ],
 "metadata": {
  "kernelspec": {
   "display_name": "Python 3 (ipykernel)",
   "language": "python",
   "name": "python3"
  },
  "language_info": {
   "codemirror_mode": {
    "name": "ipython",
    "version": 3
   },
   "file_extension": ".py",
   "mimetype": "text/x-python",
   "name": "python",
   "nbconvert_exporter": "python",
   "pygments_lexer": "ipython3",
   "version": "3.9.12"
  }
 },
 "nbformat": 4,
 "nbformat_minor": 5
}
